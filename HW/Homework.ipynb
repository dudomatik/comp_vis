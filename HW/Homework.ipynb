{
 "cells": [
  {
   "cell_type": "markdown",
   "id": "de4c9d62-c79b-440b-b149-0dd40a81d2f6",
   "metadata": {},
   "source": [
    "# Import Images"
   ]
  },
  {
   "cell_type": "code",
   "execution_count": 1,
   "id": "2e7b5812-0cea-4a6e-b401-7ab8be5b279b",
   "metadata": {},
   "outputs": [],
   "source": [
    "import os\n",
    "import skimage\n",
    "from skimage.color import rgb2gray\n",
    "import matplotlib.pyplot as plt\n",
    "import ipywidgets as widgets"
   ]
  },
  {
   "cell_type": "code",
   "execution_count": 2,
   "id": "79491784-fd7a-43e7-93ad-ddb1b7a3b8b3",
   "metadata": {
    "editable": true,
    "slideshow": {
     "slide_type": ""
    },
    "tags": []
   },
   "outputs": [],
   "source": [
    "folder_path = 'Images'\n",
    "\n",
    "file_paths = []\n",
    "\n",
    "# List all files in the folder\n",
    "for filename in os.listdir(folder_path):\n",
    "    # Join the folder path with the filename to get the full path\n",
    "    file_path = os.path.join(folder_path, filename)\n",
    "    \n",
    "    # Check if the path is a file (not a directory)\n",
    "    if os.path.isfile(file_path):\n",
    "        # Append the file path to the list\n",
    "        file_paths.append(file_path)"
   ]
  },
  {
   "cell_type": "code",
   "execution_count": 3,
   "id": "461a741a-cd11-44a3-a5b9-db7ed9bdad01",
   "metadata": {
    "editable": true,
    "slideshow": {
     "slide_type": ""
    },
    "tags": []
   },
   "outputs": [],
   "source": [
    "\n",
    "images = skimage.io.imread_collection(file_paths)"
   ]
  },
  {
   "cell_type": "code",
   "execution_count": 4,
   "id": "b6125bda-2a85-4885-810d-a5f3497fd4e7",
   "metadata": {},
   "outputs": [
    {
     "data": {
      "text/plain": [
       "(3024, 4032, 3)"
      ]
     },
     "execution_count": 4,
     "metadata": {},
     "output_type": "execute_result"
    }
   ],
   "source": [
    "images[0].shape"
   ]
  },
  {
   "cell_type": "markdown",
   "id": "c687d0b9-81c6-41dd-bb01-d6e3b946cd48",
   "metadata": {},
   "source": [
    "# Convert to Grayscale"
   ]
  },
  {
   "cell_type": "code",
   "execution_count": 5,
   "id": "a9c62c0f-acde-4bcb-916d-691789f95083",
   "metadata": {},
   "outputs": [],
   "source": [
    "images_g = []\n",
    "for image in images:\n",
    "    images_g.append(rgb2gray(image))"
   ]
  },
  {
   "cell_type": "code",
   "execution_count": 6,
   "id": "768d1390-9980-4a8c-b5b4-911e32ddce04",
   "metadata": {
    "editable": true,
    "slideshow": {
     "slide_type": ""
    },
    "tags": []
   },
   "outputs": [
    {
     "data": {
      "application/vnd.jupyter.widget-view+json": {
       "model_id": "437aa21e019242faa00fd765ee465910",
       "version_major": 2,
       "version_minor": 0
      },
      "text/plain": [
       "interactive(children=(Dropdown(description='image', options=(0, 1, 2, 3, 4, 5, 6, 7, 8, 9, 10, 11, 12, 13, 14,…"
      ]
     },
     "metadata": {},
     "output_type": "display_data"
    }
   ],
   "source": [
    "@widgets.interact(image = range(len(images_g)))\n",
    "def f(image):\n",
    "   plt.imshow(images_g[image])"
   ]
  },
  {
   "cell_type": "markdown",
   "id": "900a9253-410e-4cdc-ab94-3191e19eaaee",
   "metadata": {},
   "source": [
    "# Downscale"
   ]
  },
  {
   "cell_type": "code",
   "execution_count": 7,
   "id": "fc5e41a9-6b66-4c3e-beb3-1fda3393fd46",
   "metadata": {},
   "outputs": [
    {
     "data": {
      "text/plain": [
       "(3024, 4032)"
      ]
     },
     "execution_count": 7,
     "metadata": {},
     "output_type": "execute_result"
    }
   ],
   "source": [
    "images_g[0].shape"
   ]
  },
  {
   "cell_type": "code",
   "execution_count": 60,
   "id": "3fb42efc-1b26-4626-b9a9-e1cf504f9493",
   "metadata": {},
   "outputs": [],
   "source": [
    "images_ds = []\n",
    "ds_factors = (4, 4)\n",
    "for image in images_g:\n",
    "    images_ds.append(skimage.transform.downscale_local_mean(image = image, factors = ds_factors))"
   ]
  },
  {
   "cell_type": "code",
   "execution_count": 61,
   "id": "49a50539-7511-4b99-a0a2-ec73d60355e5",
   "metadata": {},
   "outputs": [
    {
     "data": {
      "application/vnd.jupyter.widget-view+json": {
       "model_id": "4aff9b1c038146b4bc78098d4cb7aa45",
       "version_major": 2,
       "version_minor": 0
      },
      "text/plain": [
       "interactive(children=(Dropdown(description='image', options=(0, 1, 2, 3, 4, 5, 6, 7, 8, 9, 10, 11, 12, 13, 14,…"
      ]
     },
     "metadata": {},
     "output_type": "display_data"
    }
   ],
   "source": [
    "@widgets.interact(image = range(len(images_ds)))\n",
    "def f(image):\n",
    "   plt.imshow(images_ds[image])"
   ]
  },
  {
   "cell_type": "code",
   "execution_count": 63,
   "id": "160c1a9b-61f5-4877-bd39-8f8f610815fd",
   "metadata": {},
   "outputs": [
    {
     "data": {
      "text/plain": [
       "(756, 1008)"
      ]
     },
     "execution_count": 63,
     "metadata": {},
     "output_type": "execute_result"
    }
   ],
   "source": [
    "images_ds[0].shape"
   ]
  },
  {
   "cell_type": "markdown",
   "id": "892cd451-60cb-496b-aac8-79073babb099",
   "metadata": {},
   "source": [
    "# Canny Edges"
   ]
  },
  {
   "cell_type": "code",
   "execution_count": 40,
   "id": "8d47abf5-9faa-4a08-83b6-f2b65f6dfbfd",
   "metadata": {
    "editable": true,
    "slideshow": {
     "slide_type": ""
    },
    "tags": []
   },
   "outputs": [
    {
     "ename": "IndexError",
     "evalue": "list assignment index out of range",
     "output_type": "error",
     "traceback": [
      "\u001b[0;31m---------------------------------------------------------------------------\u001b[0m",
      "\u001b[0;31mIndexError\u001b[0m                                Traceback (most recent call last)",
      "Cell \u001b[0;32mIn[40], line 3\u001b[0m\n\u001b[1;32m      1\u001b[0m imedges\u001b[38;5;241m=\u001b[39m []\n\u001b[1;32m      2\u001b[0m \u001b[38;5;28;01mfor\u001b[39;00m i, image \u001b[38;5;129;01min\u001b[39;00m \u001b[38;5;28menumerate\u001b[39m(images_g):\n\u001b[0;32m----> 3\u001b[0m     \u001b[43mimedges\u001b[49m\u001b[43m[\u001b[49m\u001b[43mi\u001b[49m\u001b[43m]\u001b[49m \u001b[38;5;241m=\u001b[39m skimage\u001b[38;5;241m.\u001b[39mfeature\u001b[38;5;241m.\u001b[39mcanny(image)\n",
      "\u001b[0;31mIndexError\u001b[0m: list assignment index out of range"
     ]
    }
   ],
   "source": [
    "imedges = []\n",
    "for image in enumerate(images_g):\n",
    "    imedges.append(skimage.feature.canny(image))"
   ]
  },
  {
   "cell_type": "code",
   "execution_count": null,
   "id": "1ff679fa-068c-474f-8dd1-fd2f25edb762",
   "metadata": {},
   "outputs": [],
   "source": []
  }
 ],
 "metadata": {
  "kernelspec": {
   "display_name": "Python 3 (ipykernel)",
   "language": "python",
   "name": "python3"
  },
  "language_info": {
   "codemirror_mode": {
    "name": "ipython",
    "version": 3
   },
   "file_extension": ".py",
   "mimetype": "text/x-python",
   "name": "python",
   "nbconvert_exporter": "python",
   "pygments_lexer": "ipython3",
   "version": "3.11.5"
  }
 },
 "nbformat": 4,
 "nbformat_minor": 5
}
